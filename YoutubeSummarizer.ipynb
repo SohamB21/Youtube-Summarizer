{
  "nbformat": 4,
  "nbformat_minor": 0,
  "metadata": {
    "colab": {
      "provenance": [],
      "authorship_tag": "ABX9TyMStBBjIIWVbNWmBTMA/s9h",
      "include_colab_link": true
    },
    "kernelspec": {
      "name": "python3",
      "display_name": "Python 3"
    },
    "language_info": {
      "name": "python"
    }
  },
  "cells": [
    {
      "cell_type": "markdown",
      "metadata": {
        "id": "view-in-github",
        "colab_type": "text"
      },
      "source": [
        "<a href=\"https://colab.research.google.com/github/SohamB21/Youtube-Summarizer/blob/main/YoutubeSummarizer.ipynb\" target=\"_parent\"><img src=\"https://colab.research.google.com/assets/colab-badge.svg\" alt=\"Open In Colab\"/></a>"
      ]
    },
    {
      "cell_type": "code",
      "source": [
        "# Install youtube_transcript_api\n",
        "!pip install youtube_transcript_api\n",
        "\n",
        "# Import required libraries\n",
        "import youtube_transcript_api\n",
        "from youtube_transcript_api import YouTubeTranscriptApi\n",
        "import nltk\n",
        "import re\n",
        "from nltk.corpus import stopwords\n",
        "import sklearn\n",
        "from sklearn.feature_extraction.text import TfidfVectorizer\n",
        "\n",
        "# Accept YouTube link from the user and retrieve transcript, make sure that only english subtitles are there\n",
        "# Eg: https://www.youtube.com/watch?v=Y7W41VMxyQE , https://www.youtube.com/watch?v=HXH4yu227EQ\n",
        "link = input(\"Enter the YouTube link: \")\n",
        "unique_id = link.split(\"=\")[-1]\n",
        "\n",
        "try:\n",
        "    sub = YouTubeTranscriptApi.get_transcript(unique_id)\n",
        "    subtitle = \" \".join([x['text'] for x in sub])\n",
        "    print(subtitle)\n",
        "except Exception as e:\n",
        "    print(\"Error:\", e)"
      ],
      "metadata": {
        "colab": {
          "base_uri": "https://localhost:8080/"
        },
        "id": "ZVdg0_GveuXO",
        "outputId": "62c47d92-c552-4c25-eafb-3dfa7d7bbd55"
      },
      "execution_count": 44,
      "outputs": [
        {
          "output_type": "stream",
          "name": "stdout",
          "text": [
            "Requirement already satisfied: youtube_transcript_api in /usr/local/lib/python3.10/dist-packages (0.6.2)\n",
            "Requirement already satisfied: requests in /usr/local/lib/python3.10/dist-packages (from youtube_transcript_api) (2.31.0)\n",
            "Requirement already satisfied: charset-normalizer<4,>=2 in /usr/local/lib/python3.10/dist-packages (from requests->youtube_transcript_api) (3.3.2)\n",
            "Requirement already satisfied: idna<4,>=2.5 in /usr/local/lib/python3.10/dist-packages (from requests->youtube_transcript_api) (2.10)\n",
            "Requirement already satisfied: urllib3<3,>=1.21.1 in /usr/local/lib/python3.10/dist-packages (from requests->youtube_transcript_api) (2.0.7)\n",
            "Requirement already satisfied: certifi>=2017.4.17 in /usr/local/lib/python3.10/dist-packages (from requests->youtube_transcript_api) (2024.2.2)\n",
            "Enter the YouTube link: https://www.youtube.com/watch?v=HXH4yu227EQ\n",
            "did you hear the news a new AI called Devin just came out as the world's first AI software engineer now they say it can code entire projects take freelancing jobs on upwork fix GitHub issues and even deploy code on its own so the headlines are screaming that software engineering jobs are dead and people are asking me oh msh I'm in the first year of computer science or I just graduated so didn't waste my time but here's the thing I've been in the industry for 20 years and trust me we're going to be just fine in this video I'm going to give you five reasons why I'm not panicking and why I think you shouldn't worry either let's dive into the details let's be honest companies that build these AI tools they are in the business of selling they're going to show you the coolest Parts the most impressive demos to get you excited but just like every product there are usually limitations we only discover after we start using it Devin may have done some upw work jobs but what kind of jobs simple complex we just don't know yet these demos are meant to grab your attention and attract new investors keep that in mind now let's be real even if Devon is a coding Superstar do you think any serious company is going to let an AI pick up their sensitive code base generate changes and just automatically deploy it absolutely not that's a recipe for disaster a human software engineer always needs to review the ai's work trust me I've played with a lot of these tools and they are not perfect it's like self-driving cars cool technology but we are not getting rid of drivers anytime soon now speaking of reviewing have you heard of the term AI hallucination it's like that friend who always seems to have an answer for everything even if they don't know what they're talking about AI can do that with code spitting out something that looks impressive but doesn't actually solve the problem that's where we humans still coming now think about this chat GPT has been around for a year and a half and it can generate code how many stories have you read about software Engineers losing their jobs because their company decided to use an AI instead I haven't heard of a single story and here's the reason building great software is about way more than just typing out code think about it this way making a movie isn't just about the actors on screen there's writing directing editing lighting sound design tons of behindth scenes work that the audience never SE directly same with software yes AI getting better at code generation is cool and important but it's like improving the acting part of the equation there is still a whole world of essential skills AI hasn't touched yet can an AI sit down with a client and figure out what they truly need the way a human can I don't think so also so many businesses rely on older often complex systems understanding how they work their constraints and how to integrate them with newer technology that takes Human Experience and problem solving skills that AI hasn't mastered yet planning the big pieces of how your software works and overall user experience that's an art form that AI has barely touched so much of our job is talking to other Engineers designers stakeholders figuring out Solutions together AI can't replace that human interaction look I've been coding for 30 years and I've seen the tools change so much here's the first editor I used on a com 64 to code that was 35 years ago back then it was just you and the text character by character no fancy features just pure focus on the logic then came editors like visual studio with auto completion that was a GameChanger fast forward a few years and we got code Snippets with a few key strokes you could generate a whole chunk of code amazing for efficiency and now with GitHub co-pilot and other AI tools we can explain what we want in plain English and it generates Cod pretty impressive right but here's the key point the trend is that we spend less time on the boring repetitive typing stuff and more time on the creative and strategic parts of software development that's where humans Excel oh and by the way let's not forget that 3 years ago when GitHub co-pilot first came out there was a similar hype a fear that it would replace developers but the reality it's being a productivity booster not a job stealer so my advice Don't Panic ignore the clickbait headlines keep learning keep growing your skills and trust that if AI gets so good that even experienced software Engineers are't needed well it won't just affect us the whole world would be changing not just coding let me know what you think in the comments and subscribe for more videos like this\n"
          ]
        }
      ]
    },
    {
      "cell_type": "code",
      "source": [
        "# Install transformers\n",
        "!pip install transformers\n",
        "\n",
        "# Import transformers and load BART model\n",
        "import transformers\n",
        "from transformers import BartTokenizer, BartForConditionalGeneration\n",
        "\n",
        "tokenizer = BartTokenizer.from_pretrained('facebook/bart-large-cnn')\n",
        "model = BartForConditionalGeneration.from_pretrained('facebook/bart-large-cnn')"
      ],
      "metadata": {
        "colab": {
          "base_uri": "https://localhost:8080/"
        },
        "id": "zH_4u0UYffBZ",
        "outputId": "d822e074-8f95-45aa-95b8-59b08234a2a9"
      },
      "execution_count": 45,
      "outputs": [
        {
          "output_type": "stream",
          "name": "stdout",
          "text": [
            "Requirement already satisfied: transformers in /usr/local/lib/python3.10/dist-packages (4.40.0)\n",
            "Requirement already satisfied: filelock in /usr/local/lib/python3.10/dist-packages (from transformers) (3.13.4)\n",
            "Requirement already satisfied: huggingface-hub<1.0,>=0.19.3 in /usr/local/lib/python3.10/dist-packages (from transformers) (0.20.3)\n",
            "Requirement already satisfied: numpy>=1.17 in /usr/local/lib/python3.10/dist-packages (from transformers) (1.25.2)\n",
            "Requirement already satisfied: packaging>=20.0 in /usr/local/lib/python3.10/dist-packages (from transformers) (24.0)\n",
            "Requirement already satisfied: pyyaml>=5.1 in /usr/local/lib/python3.10/dist-packages (from transformers) (6.0.1)\n",
            "Requirement already satisfied: regex!=2019.12.17 in /usr/local/lib/python3.10/dist-packages (from transformers) (2023.12.25)\n",
            "Requirement already satisfied: requests in /usr/local/lib/python3.10/dist-packages (from transformers) (2.31.0)\n",
            "Requirement already satisfied: tokenizers<0.20,>=0.19 in /usr/local/lib/python3.10/dist-packages (from transformers) (0.19.1)\n",
            "Requirement already satisfied: safetensors>=0.4.1 in /usr/local/lib/python3.10/dist-packages (from transformers) (0.4.3)\n",
            "Requirement already satisfied: tqdm>=4.27 in /usr/local/lib/python3.10/dist-packages (from transformers) (4.66.2)\n",
            "Requirement already satisfied: fsspec>=2023.5.0 in /usr/local/lib/python3.10/dist-packages (from huggingface-hub<1.0,>=0.19.3->transformers) (2023.6.0)\n",
            "Requirement already satisfied: typing-extensions>=3.7.4.3 in /usr/local/lib/python3.10/dist-packages (from huggingface-hub<1.0,>=0.19.3->transformers) (4.11.0)\n",
            "Requirement already satisfied: charset-normalizer<4,>=2 in /usr/local/lib/python3.10/dist-packages (from requests->transformers) (3.3.2)\n",
            "Requirement already satisfied: idna<4,>=2.5 in /usr/local/lib/python3.10/dist-packages (from requests->transformers) (2.10)\n",
            "Requirement already satisfied: urllib3<3,>=1.21.1 in /usr/local/lib/python3.10/dist-packages (from requests->transformers) (2.0.7)\n",
            "Requirement already satisfied: certifi>=2017.4.17 in /usr/local/lib/python3.10/dist-packages (from requests->transformers) (2024.2.2)\n"
          ]
        }
      ]
    },
    {
      "cell_type": "code",
      "source": [
        "# Method 1: Using BART model, encode the subtitle and generate summary\n",
        "input_tensor = tokenizer.encode(subtitle, return_tensors=\"pt\", max_length=512, truncation=True)\n",
        "\n",
        "outputs_tensor = model.generate(input_tensor, max_length=160, min_length=120, length_penalty=2.0, num_beams=4, early_stopping=True)\n",
        "outputs_tensor\n",
        "print(tokenizer.decode(outputs_tensor[0]))"
      ],
      "metadata": {
        "colab": {
          "base_uri": "https://localhost:8080/"
        },
        "id": "qERAKlFrfm_A",
        "outputId": "ce3336ff-5d41-4493-8cbf-0d3c7e62bf31"
      },
      "execution_count": 46,
      "outputs": [
        {
          "output_type": "stream",
          "name": "stdout",
          "text": [
            "</s><s>A new AI called Devin just came out as the world's first AI software engineer. Devin can code entire projects take freelancing jobs on upwork fix GitHub issues and even deploy code on its own. The headlines are screaming that software engineering jobs are dead and people are asking me oh msh I'm in the first year of computer science or I just graduated so didn't waste my time but here's the thing I've been in the industry for 20 years and trust me we're going to be just fine in this video I'm going to give you five reasons why I'm not panicking and why you shouldn't worry either.</s>\n"
          ]
        }
      ]
    },
    {
      "cell_type": "code",
      "source": [
        "# # Method 2: Using pipeline feature of transformers for summarization\n",
        "# from transformers import pipeline\n",
        "\n",
        "# summarizer = pipeline('summarization', model='facebook/bart-large-cnn')\n",
        "# summary = summarizer(subtitle, max_length=100, min_length=10)\n",
        "# print(summary)"
      ],
      "metadata": {
        "id": "5Ba1-Dwkf2Ef"
      },
      "execution_count": 47,
      "outputs": []
    }
  ]
}